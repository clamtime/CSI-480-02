{
  "nbformat": 4,
  "nbformat_minor": 0,
  "metadata": {
    "colab": {
      "name": "10/26/21.ipynb",
      "provenance": [],
      "authorship_tag": "ABX9TyMqdXQmuUxsdeHTK8x5FrSh",
      "include_colab_link": true
    },
    "kernelspec": {
      "name": "python3",
      "display_name": "Python 3"
    },
    "language_info": {
      "name": "python"
    }
  },
  "cells": [
    {
      "cell_type": "markdown",
      "metadata": {
        "id": "view-in-github",
        "colab_type": "text"
      },
      "source": [
        "<a href=\"https://colab.research.google.com/github/clamtime/CSI-480-02/blob/master/10_26_21.ipynb\" target=\"_parent\"><img src=\"https://colab.research.google.com/assets/colab-badge.svg\" alt=\"Open In Colab\"/></a>"
      ]
    },
    {
      "cell_type": "code",
      "metadata": {
        "colab": {
          "base_uri": "https://localhost:8080/"
        },
        "id": "5zyzg0QKaY4C",
        "outputId": "de907815-99b3-41fa-8ab0-f9fad9e36509"
      },
      "source": [
        "import pandas as pd\n",
        "import numpy as np\n",
        "from sklearn.preprocessing import LabelEncoder\n",
        "\n",
        "df = pd.read_csv(\"Banking_Marketing.csv\")\n",
        "df = df.dropna()\n",
        "\n",
        "print(df['loan'].value_counts())\n",
        "\n",
        "data_column_category = df.select_dtypes(exclude=[np.number]).columns\n",
        "data_column_numeric = df.select_dtypes(include=[np.number]).columns\n",
        "print(df.head())\n",
        "\n",
        "label_encoder = LabelEncoder();\n",
        "\n",
        "for i in data_column_category:\n",
        "  df[i] = label_encoder.fit_transform(df[i])\n",
        "\n",
        "print(\"Label Encoded Data: \")\n",
        "\n",
        "df[data_column_category].std().sort_values(ascending=False)"
      ],
      "execution_count": 7,
      "outputs": [
        {
          "output_type": "stream",
          "name": "stdout",
          "text": [
            "no         33950\n",
            "yes         6247\n",
            "unknown      990\n",
            "n              2\n",
            "Name: loan, dtype: int64\n",
            "   age          job  marital  ... euribor3m nr_employed  y\n",
            "0   44  blue-collar  married  ...     4.963      5228.1  0\n",
            "1   53   technician  married  ...     4.021      5195.8  0\n",
            "2   28   management   single  ...     0.729      4991.6  1\n",
            "3   39     services  married  ...     1.405      5099.1  0\n",
            "4   55      retired  married  ...     0.869      5076.2  1\n",
            "\n",
            "[5 rows x 21 columns]\n",
            "Label Encoded Data: \n"
          ]
        },
        {
          "output_type": "execute_result",
          "data": {
            "text/plain": [
              "job            3.594537\n",
              "month          2.319997\n",
              "education      2.136434\n",
              "day_of_week    1.397559\n",
              "housing        0.985320\n",
              "loan           0.723619\n",
              "marital        0.608896\n",
              "contact        0.481511\n",
              "default        0.406683\n",
              "poutcome       0.362882\n",
              "dtype: float64"
            ]
          },
          "metadata": {},
          "execution_count": 7
        }
      ]
    },
    {
      "cell_type": "code",
      "metadata": {
        "id": "aAElP9EGaxH6"
      },
      "source": [
        ""
      ],
      "execution_count": null,
      "outputs": []
    }
  ]
}