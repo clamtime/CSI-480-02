{
  "nbformat": 4,
  "nbformat_minor": 0,
  "metadata": {
    "colab": {
      "name": "MIDTERM.ipynb",
      "provenance": [],
      "collapsed_sections": [],
      "authorship_tag": "ABX9TyMZ4cl3N01m1BRlAWW43/oM",
      "include_colab_link": true
    },
    "kernelspec": {
      "name": "python3",
      "display_name": "Python 3"
    },
    "language_info": {
      "name": "python"
    }
  },
  "cells": [
    {
      "cell_type": "markdown",
      "metadata": {
        "id": "view-in-github",
        "colab_type": "text"
      },
      "source": [
        "<a href=\"https://colab.research.google.com/github/clamtime/CSI-480-02/blob/master/MIDTERM.ipynb\" target=\"_parent\"><img src=\"https://colab.research.google.com/assets/colab-badge.svg\" alt=\"Open In Colab\"/></a>"
      ]
    },
    {
      "cell_type": "code",
      "metadata": {
        "colab": {
          "base_uri": "https://localhost:8080/"
        },
        "id": "1Fc8HJRltEIx",
        "outputId": "3d3da9a8-dbc9-4c37-dd5c-6aaa23262ffa"
      },
      "source": [
        "import pandas as pd\n",
        "import numpy as np\n",
        "\n",
        "df = pd.read_csv('irisdata.csv')\n",
        "for col in data.columns:\n",
        "    print(col)\n",
        "\n",
        "# cleaning data\n",
        "\n",
        "df['petal_width'] = df['petal_width'].map(lambda x: x.rstrip('aAbBcC'))\n",
        "df[' petal_length '] = df[' petal_length '].fillna(\"0\", inplace=True)\n",
        "df[' petal_length '] = 0.1 * df[' petal_length '] # not sure why this isnt working\n",
        "df['species'] = df['species'].astype(str)\n",
        "df['ID'] = df['ID'].astype(float)\n",
        "df['ID'] = df['ID'] * 10 # doesnt work but no reason for decimal is my assumption\n",
        "\n",
        "# sorry about the poor performance on this midterm -- taking this as a wakeup call to\n",
        "# perform better for the rest of the semester -- have had lots of external struggles\n",
        "# which has made this semester difficult but i will attempt to put in extra effort to\n",
        "# salvage my current position in the class\n",
        "# this type of assignment i could have completed in 10 minutes in C++, i'm simply showing\n",
        "# my lack of class participation here and apologize\n",
        "\n",
        "print(data)"
      ],
      "execution_count": 98,
      "outputs": [
        {
          "output_type": "stream",
          "name": "stdout",
          "text": [
            "sepal_length\n",
            "sepal_width\n",
            " petal_length \n",
            "petal_width\n",
            "species\n",
            "ID\n",
            "    sepal_length sepal_width  petal_length  petal_width    species        ID\n",
            "0         $5.10         350%      1,400.00         0.04     setosa  0.501578\n",
            "1         $4.90         300%      1,400.00         0.04     setosa  0.952522\n",
            "2         $4.70         320%      1,300.00         0.04     setosa  0.178990\n",
            "3         $4.60         310%      1,500.00         0.04     setosa  0.768478\n",
            "4         $5.00         360%      1,400.00         0.04     setosa  0.046327\n",
            "..           ...         ...            ...         ...        ...       ...\n",
            "145       $6.70         300%      5,200.00         5.29  Virginica  0.591577\n",
            "146       $6.30         250%      5,000.00         3.61  virginica  0.241802\n",
            "147       $6.50         300%      5,200.00            4  virginica  0.932065\n",
            "148       $6.20         340%      5,400.00         5.29  Virginica  0.582025\n",
            "149       $5.90         300%      5,100.00         3.24  virginica  0.462726\n",
            "\n",
            "[150 rows x 6 columns]\n"
          ]
        }
      ]
    }
  ]
}