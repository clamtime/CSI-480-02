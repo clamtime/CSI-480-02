{
  "nbformat": 4,
  "nbformat_minor": 0,
  "metadata": {
    "colab": {
      "name": "Untitled3.ipynb",
      "provenance": [],
      "collapsed_sections": [],
      "authorship_tag": "ABX9TyMAvsaml2mZdR2emo6Z4t2u",
      "include_colab_link": true
    },
    "kernelspec": {
      "name": "python3",
      "display_name": "Python 3"
    },
    "language_info": {
      "name": "python"
    }
  },
  "cells": [
    {
      "cell_type": "markdown",
      "metadata": {
        "id": "view-in-github",
        "colab_type": "text"
      },
      "source": [
        "<a href=\"https://colab.research.google.com/github/clamtime/CSI-480-02/blob/master/10-15-21.ipynb\" target=\"_parent\"><img src=\"https://colab.research.google.com/assets/colab-badge.svg\" alt=\"Open In Colab\"/></a>"
      ]
    },
    {
      "cell_type": "code",
      "metadata": {
        "colab": {
          "base_uri": "https://localhost:8080/"
        },
        "id": "ILc6VHAImvvu",
        "outputId": "8d892a19-71eb-4086-eebb-e42f71ed9fb9"
      },
      "source": [
        "import numpy as np\n",
        "import pandas as pd\n",
        "\n",
        "HousingData = pd.read_csv(\"melb_data.csv\")\n",
        "\n",
        "HousingData['Date'] = pd.to_datetime(HousingData['Date'])\n",
        "\n",
        "HousingData['Propertycount'] = HousingData['Propertycount'].astype('Int16')\n",
        "\n",
        "TypeMap = {'h' : 'house', 'u' : 'unit', 't' : 'town_house'}\n",
        "\n",
        "HousingData.Type.replace(TypeMap).sample(20)\n",
        "\n",
        "HousingData['Type']=HousingData['Type'].astype('category')\n",
        "print(HousingData.Type.memory_usage())\n",
        "\n",
        "HousingData['Date'].sample(10)"
      ],
      "execution_count": 22,
      "outputs": [
        {
          "output_type": "stream",
          "name": "stdout",
          "text": [
            "18628\n"
          ]
        },
        {
          "output_type": "execute_result",
          "data": {
            "text/plain": [
              "11761   2017-03-06\n",
              "9523    2017-05-13\n",
              "14999   2017-07-22\n",
              "92      2016-09-17\n",
              "14794   2017-07-22\n",
              "14534   2017-07-15\n",
              "9514    2017-06-05\n",
              "9996    2017-06-05\n",
              "15647   2017-03-09\n",
              "17825   2017-09-23\n",
              "Name: Date, dtype: datetime64[ns]"
            ]
          },
          "metadata": {},
          "execution_count": 22
        }
      ]
    }
  ]
}