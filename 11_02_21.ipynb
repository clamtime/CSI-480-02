{
  "nbformat": 4,
  "nbformat_minor": 0,
  "metadata": {
    "colab": {
      "name": "10/26/21.ipynb",
      "provenance": [],
      "authorship_tag": "ABX9TyM9DpLNZ5Ev9vPzSlgBwINR",
      "include_colab_link": true
    },
    "kernelspec": {
      "name": "python3",
      "display_name": "Python 3"
    },
    "language_info": {
      "name": "python"
    }
  },
  "cells": [
    {
      "cell_type": "markdown",
      "metadata": {
        "id": "view-in-github",
        "colab_type": "text"
      },
      "source": [
        "<a href=\"https://colab.research.google.com/github/clamtime/CSI-480-02/blob/master/11_02_21.ipynb\" target=\"_parent\"><img src=\"https://colab.research.google.com/assets/colab-badge.svg\" alt=\"Open In Colab\"/></a>"
      ]
    },
    {
      "cell_type": "code",
      "metadata": {
        "colab": {
          "base_uri": "https://localhost:8080/"
        },
        "id": "5zyzg0QKaY4C",
        "outputId": "e611b83a-8371-4881-9f1a-e222805de2f5"
      },
      "source": [
        "import pandas as pd\n",
        "import numpy as np\n",
        "from sklearn.preprocessing import LabelEncoder\n",
        "from sklearn.preprocessing import OneHotEncoder\n",
        "\n",
        "df = pd.read_csv(\"Banking_Marketing.csv\")\n",
        "df = df.dropna()\n",
        "\n",
        "#print(df['job'].value_counts())\n",
        "\n",
        "data_column_category = df.select_dtypes(exclude=[np.number]).columns\n",
        "data_column_numeric = df.select_dtypes(include=[np.number]).columns\n",
        "#print(df.head())\n",
        "\n",
        "df_onehot_getdummies = pd.get_dummies(df[data_column_category], prefix=data_column_category)\n",
        "\n",
        "label_encoder = LabelEncoder();\n",
        "\n",
        "for i in data_column_category:\n",
        "  df[i] = label_encoder.fit_transform(df[i])\n",
        "\n",
        "#print(\"Label Encoded Data: \")\n",
        "\n",
        "onehot_encoder = OneHotEncoder(sparse=False)\n",
        "onehot_encoded = onehot_encoder.fit_transform(df[data_column_category])\n",
        "\n",
        "onehot_encoded_frame = pd.DataFrame(onehot_encoded, columns=onehot_encoder.get_feature_names(data_column_category))\n",
        "\n",
        "onehot_encoded_frame.head()\n",
        "\n",
        "final_df = pd.concat([df_onehot_getdummies, df[data_column_numeric]], axis=1)\n",
        "\n",
        "final_df.info()"
      ],
      "execution_count": 12,
      "outputs": [
        {
          "output_type": "stream",
          "name": "stdout",
          "text": [
            "<class 'pandas.core.frame.DataFrame'>\n",
            "Int64Index: 41189 entries, 0 to 41198\n",
            "Data columns (total 65 columns):\n",
            " #   Column                         Non-Null Count  Dtype  \n",
            "---  ------                         --------------  -----  \n",
            " 0   job_admin.                     41189 non-null  uint8  \n",
            " 1   job_blue-collar                41189 non-null  uint8  \n",
            " 2   job_entrepreneur               41189 non-null  uint8  \n",
            " 3   job_housemaid                  41189 non-null  uint8  \n",
            " 4   job_management                 41189 non-null  uint8  \n",
            " 5   job_retired                    41189 non-null  uint8  \n",
            " 6   job_self-employed              41189 non-null  uint8  \n",
            " 7   job_services                   41189 non-null  uint8  \n",
            " 8   job_student                    41189 non-null  uint8  \n",
            " 9   job_technician                 41189 non-null  uint8  \n",
            " 10  job_unemployed                 41189 non-null  uint8  \n",
            " 11  job_unknown                    41189 non-null  uint8  \n",
            " 12  marital_divorced               41189 non-null  uint8  \n",
            " 13  marital_married                41189 non-null  uint8  \n",
            " 14  marital_single                 41189 non-null  uint8  \n",
            " 15  marital_unknown                41189 non-null  uint8  \n",
            " 16  education_basic.4y             41189 non-null  uint8  \n",
            " 17  education_basic.6y             41189 non-null  uint8  \n",
            " 18  education_basic.9y             41189 non-null  uint8  \n",
            " 19  education_high.school          41189 non-null  uint8  \n",
            " 20  education_illiterate           41189 non-null  uint8  \n",
            " 21  education_professional.course  41189 non-null  uint8  \n",
            " 22  education_university.degree    41189 non-null  uint8  \n",
            " 23  education_unknown              41189 non-null  uint8  \n",
            " 24  default_no                     41189 non-null  uint8  \n",
            " 25  default_unknown                41189 non-null  uint8  \n",
            " 26  default_yes                    41189 non-null  uint8  \n",
            " 27  housing_no                     41189 non-null  uint8  \n",
            " 28  housing_unknown                41189 non-null  uint8  \n",
            " 29  housing_yes                    41189 non-null  uint8  \n",
            " 30  loan_n                         41189 non-null  uint8  \n",
            " 31  loan_no                        41189 non-null  uint8  \n",
            " 32  loan_unknown                   41189 non-null  uint8  \n",
            " 33  loan_yes                       41189 non-null  uint8  \n",
            " 34  contact_cellular               41189 non-null  uint8  \n",
            " 35  contact_telephone              41189 non-null  uint8  \n",
            " 36  month_apr                      41189 non-null  uint8  \n",
            " 37  month_aug                      41189 non-null  uint8  \n",
            " 38  month_dec                      41189 non-null  uint8  \n",
            " 39  month_jul                      41189 non-null  uint8  \n",
            " 40  month_jun                      41189 non-null  uint8  \n",
            " 41  month_mar                      41189 non-null  uint8  \n",
            " 42  month_may                      41189 non-null  uint8  \n",
            " 43  month_nov                      41189 non-null  uint8  \n",
            " 44  month_oct                      41189 non-null  uint8  \n",
            " 45  month_sep                      41189 non-null  uint8  \n",
            " 46  day_of_week_fri                41189 non-null  uint8  \n",
            " 47  day_of_week_mon                41189 non-null  uint8  \n",
            " 48  day_of_week_thu                41189 non-null  uint8  \n",
            " 49  day_of_week_tue                41189 non-null  uint8  \n",
            " 50  day_of_week_wed                41189 non-null  uint8  \n",
            " 51  poutcome_failure               41189 non-null  uint8  \n",
            " 52  poutcome_nonexistent           41189 non-null  uint8  \n",
            " 53  poutcome_success               41189 non-null  uint8  \n",
            " 54  age                            41189 non-null  int64  \n",
            " 55  duration                       41189 non-null  float64\n",
            " 56  campaign                       41189 non-null  int64  \n",
            " 57  pdays                          41189 non-null  int64  \n",
            " 58  previous                       41189 non-null  int64  \n",
            " 59  emp_var_rate                   41189 non-null  float64\n",
            " 60  cons_price_idx                 41189 non-null  float64\n",
            " 61  cons_conf_idx                  41189 non-null  float64\n",
            " 62  euribor3m                      41189 non-null  float64\n",
            " 63  nr_employed                    41189 non-null  float64\n",
            " 64  y                              41189 non-null  int64  \n",
            "dtypes: float64(6), int64(5), uint8(54)\n",
            "memory usage: 5.9 MB\n"
          ]
        },
        {
          "output_type": "stream",
          "name": "stderr",
          "text": [
            "/usr/local/lib/python3.7/dist-packages/ipykernel_launcher.py:20: SettingWithCopyWarning: \n",
            "A value is trying to be set on a copy of a slice from a DataFrame.\n",
            "Try using .loc[row_indexer,col_indexer] = value instead\n",
            "\n",
            "See the caveats in the documentation: https://pandas.pydata.org/pandas-docs/stable/user_guide/indexing.html#returning-a-view-versus-a-copy\n"
          ]
        }
      ]
    }
  ]
}