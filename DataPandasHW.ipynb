{
  "nbformat": 4,
  "nbformat_minor": 0,
  "metadata": {
    "colab": {
      "name": "DataPandasHW.ipynb",
      "provenance": [],
      "collapsed_sections": [],
      "authorship_tag": "ABX9TyO4Za2HWeXJ/LVybuojSAyG",
      "include_colab_link": true
    },
    "kernelspec": {
      "name": "python3",
      "display_name": "Python 3"
    },
    "language_info": {
      "name": "python"
    }
  },
  "cells": [
    {
      "cell_type": "markdown",
      "metadata": {
        "id": "view-in-github",
        "colab_type": "text"
      },
      "source": [
        "<a href=\"https://colab.research.google.com/github/clamtime/CSI-480-02/blob/master/DataPandasHW.ipynb\" target=\"_parent\"><img src=\"https://colab.research.google.com/assets/colab-badge.svg\" alt=\"Open In Colab\"/></a>"
      ]
    },
    {
      "cell_type": "code",
      "metadata": {
        "id": "ce5vUO7gbTgI",
        "colab": {
          "base_uri": "https://localhost:8080/"
        },
        "outputId": "04ab52d7-b73e-4307-d043-4504e4021267"
      },
      "source": [
        "!pip install pandas==1.3.0"
      ],
      "execution_count": null,
      "outputs": [
        {
          "output_type": "stream",
          "name": "stdout",
          "text": [
            "Requirement already satisfied: pandas==1.3.0 in /usr/local/lib/python3.7/dist-packages (1.3.0)\n",
            "Requirement already satisfied: numpy>=1.17.3 in /usr/local/lib/python3.7/dist-packages (from pandas==1.3.0) (1.19.5)\n",
            "Requirement already satisfied: pytz>=2017.3 in /usr/local/lib/python3.7/dist-packages (from pandas==1.3.0) (2018.9)\n",
            "Requirement already satisfied: python-dateutil>=2.7.3 in /usr/local/lib/python3.7/dist-packages (from pandas==1.3.0) (2.8.2)\n",
            "Requirement already satisfied: six>=1.5 in /usr/local/lib/python3.7/dist-packages (from python-dateutil>=2.7.3->pandas==1.3.0) (1.15.0)\n"
          ]
        }
      ]
    },
    {
      "cell_type": "code",
      "metadata": {
        "id": "JCF25ypnbYC7",
        "colab": {
          "base_uri": "https://localhost:8080/"
        },
        "outputId": "7ebe2e1d-8ecb-4092-c656-44cb00b85e32"
      },
      "source": [
        "import pandas as pd\n",
        "import numpy as np\n",
        "\n",
        "print(\"Loading in data...\")\n",
        "csvData  = pd.read_csv('table.csv')\n",
        "jsonData = pd.read_json('table.json')\n",
        "xmlData  = pd.read_xml('table.xml')\n",
        "print(\"Load successful!\")\n",
        "\n",
        "print(\"Converting datatypes and writing to new files...\")\n",
        "csvToJson = csvData.to_json(r'\\csvToJson.json')\n",
        "jsonToXml = jsonData.to_xml(r'\\jsonToXml.xml')\n",
        "xmlToCsv  = xmlData.to_csv(r'\\xmlToCsv.csv')\n",
        "print(\"Writing successful!\\n\")\n",
        "\n",
        "print(\"Pandas -> Numpy\")\n",
        "\n",
        "print(\"NP MEAN (csvData):\")\n",
        "print(np.mean(pd.DataFrame(csvData)))\n",
        "print(\"\\n------\\n\")\n",
        "\n",
        "print(\"Numpy -> Pandas\")\n",
        "\n",
        "arr = np.array([[11,22,33], [54, 23, 49]])\n",
        "df = pd.DataFrame(arr, columns = ['Column_A','Column_B','Column_C'], index = ['Item_1', 'Item_2'])\n",
        "\n",
        "print(\"DATAFRAME DESCRIBE (arbitrary data):\")\n",
        "print(df.describe())\n",
        "\n",
        "print(\"\\nProgram Complete!\")"
      ],
      "execution_count": 22,
      "outputs": [
        {
          "output_type": "stream",
          "name": "stdout",
          "text": [
            "Loading in data...\n",
            "Load successful!\n",
            "Converting datatypes and writing to new files...\n",
            "Writing successful!\n",
            "\n",
            "Pandas -> Numpy\n",
            "NP MEAN (csvData):\n",
            "sepal.length    5.843333\n",
            "sepal.width     3.057333\n",
            "petal.length    3.758000\n",
            "petal.width     1.199333\n",
            "dtype: float64\n",
            "\n",
            "------\n",
            "\n",
            "Numpy -> Pandas\n",
            "DATAFRAME DESCRIBE (arbitrary data):\n",
            "        Column_A   Column_B   Column_C\n",
            "count   2.000000   2.000000   2.000000\n",
            "mean   32.500000  22.500000  41.000000\n",
            "std    30.405592   0.707107  11.313708\n",
            "min    11.000000  22.000000  33.000000\n",
            "25%    21.750000  22.250000  37.000000\n",
            "50%    32.500000  22.500000  41.000000\n",
            "75%    43.250000  22.750000  45.000000\n",
            "max    54.000000  23.000000  49.000000\n",
            "\n",
            "Program Complete!\n"
          ]
        },
        {
          "output_type": "stream",
          "name": "stderr",
          "text": [
            "/usr/local/lib/python3.7/dist-packages/numpy/core/fromnumeric.py:3370: FutureWarning: Dropping of nuisance columns in DataFrame reductions (with 'numeric_only=None') is deprecated; in a future version this will raise TypeError.  Select only valid columns before calling the reduction.\n",
            "  return mean(axis=axis, dtype=dtype, out=out, **kwargs)\n"
          ]
        }
      ]
    }
  ]
}